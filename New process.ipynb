{
 "cells": [
  {
   "cell_type": "code",
   "execution_count": 66,
   "metadata": {},
   "outputs": [],
   "source": [
    "#Importing Libraries\n",
    "\n",
    "from selenium import webdriver\n",
    "import pandas as pd\n",
    "import time\n",
    "from selenium.webdriver.common.keys import Keys\n",
    "from selenium.webdriver.support.select import Select\n",
    "from bs4 import BeautifulSoup\n",
    "import requests\n",
    "import lxml.html as lh\n",
    "import pandas as pd"
   ]
  },
  {
   "cell_type": "code",
   "execution_count": 67,
   "metadata": {},
   "outputs": [],
   "source": [
    "#IDs data imported\n",
    "path=\"C:/Users/Pandey/Desktop/Bhai/Revenue Controls and Migration Check.xlsx\"\n",
    "df=pd.read_excel(path)\n",
    "list_of_acco_ids = list(df['Acco-Ids'].unique())\n",
    "last_ten_acco_ids = list_of_acco_ids[-11:]"
   ]
  },
  {
   "cell_type": "code",
   "execution_count": 68,
   "metadata": {},
   "outputs": [],
   "source": [
    "#LOGIN\n",
    "driver = webdriver.Chrome()\n",
    "driver.maximize_window()\n",
    "driver.get(\"https://www.oyo-vacation-homes.net/cgi/lars/algm/login.htm\")\n",
    "driver.find_element_by_xpath('//*[@id=\"loginid\"]').send_keys('')\n",
    "driver.find_element_by_xpath('//*[@id=\"passwd\"]').send_keys('')\n",
    "driver.find_element_by_xpath('//*[@id=\"signin\"]').click()"
   ]
  },
  {
   "cell_type": "code",
   "execution_count": 72,
   "metadata": {},
   "outputs": [],
   "source": [
    "#SEARCH\n",
    "#key='IT-00055-00'\n",
    "#key='NL-0036-87'\n",
    "key='AT-9631-35'\n",
    "driver.find_element_by_xpath('//*[@id=\"quicksearchmenu\"]').send_keys(Keys.CONTROL, 'a')\n",
    "driver.find_element_by_xpath('//*[@id=\"quicksearchmenu\"]').send_keys(key)\n",
    "driver.find_element_by_xpath('//*[@id=\"quicksearchmenu\"]').send_keys(Keys.RETURN)"
   ]
  },
  {
   "cell_type": "code",
   "execution_count": null,
   "metadata": {},
   "outputs": [],
   "source": []
  },
  {
   "cell_type": "code",
   "execution_count": 85,
   "metadata": {},
   "outputs": [],
   "source": [
    "#Status Check\n",
    "table =  driver.find_element_by_xpath(\"//*[@class='table table-light']\") \n",
    "\n",
    "data = [item.text for item in table.find_elements_by_xpath(\".//*[self::td or self::th]\")]\n",
    "#print(data)\n",
    "del data[3::4]\n",
    "\n",
    "abb_status = data[5]\n",
    "ha_status = data[8]\n",
    "bdc_status = data[11]\n",
    "status={}\n",
    "status[key]=[abb_status,ha_status,bdc_status]"
   ]
  },
  {
   "cell_type": "code",
   "execution_count": 86,
   "metadata": {},
   "outputs": [
    {
     "data": {
      "text/plain": [
       "{'AT-9631-35': ['ONLINE', 'ONLINE', 'NOT CONNECTED']}"
      ]
     },
     "execution_count": 86,
     "metadata": {},
     "output_type": "execute_result"
    }
   ],
   "source": [
    "status"
   ]
  },
  {
   "cell_type": "code",
   "execution_count": null,
   "metadata": {},
   "outputs": [],
   "source": []
  },
  {
   "cell_type": "code",
   "execution_count": null,
   "metadata": {},
   "outputs": [],
   "source": []
  },
  {
   "cell_type": "code",
   "execution_count": 90,
   "metadata": {},
   "outputs": [],
   "source": [
    "#Website Appearances\n",
    "\n",
    "driver.find_element_by_xpath('//*[contains(concat( \" \", @class, \" \" ), concat( \" \", \"manageWebsites\", \" \" ))]').click()\n",
    "el = driver.find_element_by_class_name('icheck-list')\n",
    "list_wa = []\n",
    "list_ota = ['Eurorelais','Casamundo','Booking.com','HomeAway','Traum Ferienwohnungen','AirBnb','Others']\n",
    "dict_wa = {}\n",
    "to_append = None\n",
    "for wa in el.find_elements_by_tag_name('div'):\n",
    "    \n",
    "    if(wa.get_attribute(\"class\")=='icheckbox_minimal-blue checked'):\n",
    "        to_append= 'BLOCKED'\n",
    "    else:\n",
    "        to_append= 'UNBLOCKED'\n",
    "    \n",
    "    list_wa.append(to_append)\n",
    "        \n",
    "    #print(wa.get_attribute(\"class\"))\n",
    "\n",
    "dict_wa = dict(zip(list_ota, list_wa))\n",
    "    "
   ]
  },
  {
   "cell_type": "code",
   "execution_count": 91,
   "metadata": {},
   "outputs": [
    {
     "data": {
      "text/plain": [
       "{'Eurorelais': 'UNBLOCKED',\n",
       " 'Casamundo': 'UNBLOCKED',\n",
       " 'Booking.com': 'BLOCKED',\n",
       " 'HomeAway': 'UNBLOCKED',\n",
       " 'Traum Ferienwohnungen': 'UNBLOCKED',\n",
       " 'AirBnb': 'UNBLOCKED',\n",
       " 'Others': 'UNBLOCKED'}"
      ]
     },
     "execution_count": 91,
     "metadata": {},
     "output_type": "execute_result"
    }
   ],
   "source": [
    "dict_wa"
   ]
  },
  {
   "cell_type": "code",
   "execution_count": null,
   "metadata": {},
   "outputs": [],
   "source": []
  },
  {
   "cell_type": "code",
   "execution_count": null,
   "metadata": {},
   "outputs": [],
   "source": []
  },
  {
   "cell_type": "code",
   "execution_count": 93,
   "metadata": {},
   "outputs": [],
   "source": [
    "driver.find_element_by_xpath('//*[(@id = \"dowebsitecheck\")]').click()\n"
   ]
  },
  {
   "cell_type": "code",
   "execution_count": 137,
   "metadata": {},
   "outputs": [],
   "source": [
    "el = driver.find_element_by_id(\"dowebsitecheck_modal_body\")\n",
    "c=0\n",
    "OTA_check= \"\"\n",
    "for wa in el.find_elements_by_tag_name('div'):\n",
    "    #print(wa.text)\n",
    "    #print(c)\n",
    "    c=c+1\n",
    "    if(c==6 or c==1 or c==11):\n",
    "        #print(wa.text)\n",
    "        OTA_check= OTA_check + (wa.text)\n",
    "OTA_check = OTA_check.replace('\\n',' - ').split(' - VIEW DETAILS')[:3]\n",
    "OTA_check_dict={}\n",
    "abb_check = OTA_check[1]\n",
    "ha_check = OTA_check[0]\n",
    "bdc_check = OTA_check[2]\n",
    "OTA_check_dict[key] = [abb_check,ha_check,bdc_check]"
   ]
  },
  {
   "cell_type": "code",
   "execution_count": 138,
   "metadata": {},
   "outputs": [
    {
     "data": {
      "text/plain": [
       "{'AT-9631-35': ['AirBnb - No errors. Can be published on AirBnb.',\n",
       "  'HomeAway / Expedia - No errors. Can be published on HomeAway / Expedia.',\n",
       "  'Booking.com - Not to Booking.com option checked on Accommodation level']}"
      ]
     },
     "execution_count": 138,
     "metadata": {},
     "output_type": "execute_result"
    }
   ],
   "source": [
    "OTA_check_dict"
   ]
  },
  {
   "cell_type": "code",
   "execution_count": null,
   "metadata": {},
   "outputs": [],
   "source": []
  },
  {
   "cell_type": "code",
   "execution_count": null,
   "metadata": {},
   "outputs": [],
   "source": []
  },
  {
   "cell_type": "code",
   "execution_count": null,
   "metadata": {},
   "outputs": [],
   "source": []
  }
 ],
 "metadata": {
  "kernelspec": {
   "display_name": "Python 3",
   "language": "python",
   "name": "python3"
  },
  "language_info": {
   "codemirror_mode": {
    "name": "ipython",
    "version": 3
   },
   "file_extension": ".py",
   "mimetype": "text/x-python",
   "name": "python",
   "nbconvert_exporter": "python",
   "pygments_lexer": "ipython3",
   "version": "3.7.3"
  }
 },
 "nbformat": 4,
 "nbformat_minor": 2
}
